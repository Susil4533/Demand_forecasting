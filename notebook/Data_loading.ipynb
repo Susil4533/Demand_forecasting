{
 "cells": [
  {
   "cell_type": "markdown",
   "id": "13ea6c0f",
   "metadata": {},
   "source": [
    "### Data Loading "
   ]
  },
  {
   "cell_type": "code",
   "execution_count": null,
   "id": "3aa09c4e",
   "metadata": {},
   "outputs": [],
   "source": [
    "pip install pandas numpy"
   ]
  },
  {
   "cell_type": "code",
   "execution_count": 5,
   "id": "1240d709",
   "metadata": {},
   "outputs": [],
   "source": [
    "import numpy as np\n",
    "import pandas as pd"
   ]
  },
  {
   "cell_type": "code",
   "execution_count": 7,
   "id": "c2e9eaf8",
   "metadata": {},
   "outputs": [],
   "source": [
    "sales = pd.read_csv(r'C:\\Users\\wwwsu\\Desktop\\All folders\\Logistics_demand\\data\\raw\\sales_train_evaluation.csv')\n",
    "price = pd.read_csv(r'C:\\Users\\wwwsu\\Desktop\\All folders\\Logistics_demand\\data\\raw\\sell_prices.csv')\n",
    "calendar = pd.read_csv(r'C:\\Users\\wwwsu\\Desktop\\All folders\\Logistics_demand\\data\\raw\\calendar.csv')"
   ]
  },
  {
   "cell_type": "markdown",
   "id": "bc31d8f6",
   "metadata": {},
   "source": [
    "### Optimizing Sales dataframe"
   ]
  },
  {
   "cell_type": "code",
   "execution_count": 8,
   "id": "508f432c",
   "metadata": {},
   "outputs": [
    {
     "name": "stdout",
     "output_type": "stream",
     "text": [
      "Sales Data Memory Usage (MB): 116.6247148513794\n"
     ]
    }
   ],
   "source": [
    "# Convert identifier columns to category\n",
    "id_cols = ['id', 'item_id', 'dept_id', 'cat_id', 'store_id', 'state_id']\n",
    "for col in id_cols:\n",
    "    sales[col] = sales[col].astype('category')\n",
    "\n",
    "# Convert sales columns to smaller int type (e.g., uint16)\n",
    "sales_cols = sales.columns.difference(id_cols)\n",
    "sales[sales_cols] = sales[sales_cols].astype(np.uint16)\n",
    "\n",
    "# Check memory usage before and after\n",
    "print(\"Sales Data Memory Usage (MB):\", sales.memory_usage(deep=True).sum() / 1024**2)"
   ]
  },
  {
   "cell_type": "markdown",
   "id": "f5a463b7",
   "metadata": {},
   "source": [
    "### Optimizing calendar Dataframe"
   ]
  },
  {
   "cell_type": "code",
   "execution_count": 9,
   "id": "92c2453c",
   "metadata": {},
   "outputs": [
    {
     "name": "stdout",
     "output_type": "stream",
     "text": [
      "Calendar Data Memory Usage (MB): 0.22610950469970703\n"
     ]
    }
   ],
   "source": [
    "# Select essential columns only\n",
    "calendar = calendar[['d', 'date', 'wm_yr_wk', 'weekday', 'wday', 'month', 'year',\n",
    "                     'event_name_1', 'event_type_1', 'event_name_2', 'event_type_2',\n",
    "                     'snap_CA', 'snap_TX', 'snap_WI']]\n",
    "\n",
    "# Convert d to category\n",
    "calendar['d'] = calendar['d'].astype('category')\n",
    "\n",
    "# Convert date to datetime\n",
    "calendar['date'] = pd.to_datetime(calendar['date'])\n",
    "\n",
    "# Convert categorical columns\n",
    "cat_cols = ['weekday', 'event_name_1', 'event_type_1', 'event_name_2', 'event_type_2']\n",
    "for col in cat_cols:\n",
    "    calendar[col] = calendar[col].astype('category')\n",
    "\n",
    "# Convert numeric columns\n",
    "calendar['wday'] = calendar['wday'].astype(np.int8)\n",
    "calendar['month'] = calendar['month'].astype(np.int8)\n",
    "calendar['year'] = calendar['year'].astype(np.int16)\n",
    "calendar['snap_CA'] = calendar['snap_CA'].astype(np.int8)\n",
    "calendar['snap_TX'] = calendar['snap_TX'].astype(np.int8)\n",
    "calendar['snap_WI'] = calendar['snap_WI'].astype(np.int8)\n",
    "\n",
    "print(\"Calendar Data Memory Usage (MB):\", calendar.memory_usage(deep=True).sum() / 1024**2)\n"
   ]
  },
  {
   "cell_type": "markdown",
   "id": "95a6e057",
   "metadata": {},
   "source": [
    "### Optimize Price Dataframe"
   ]
  },
  {
   "cell_type": "code",
   "execution_count": 10,
   "id": "e3bcf544",
   "metadata": {},
   "outputs": [
    {
     "name": "stdout",
     "output_type": "stream",
     "text": [
      "Price Data Memory Usage (MB): 58.96129322052002\n"
     ]
    }
   ],
   "source": [
    "price['store_id'] = price['store_id'].astype('category')\n",
    "price['item_id'] = price['item_id'].astype('category')\n",
    "price['wm_yr_wk'] = price['wm_yr_wk'].astype(np.int16)\n",
    "price['sell_price'] = price['sell_price'].astype(np.float32)\n",
    "\n",
    "print(\"Price Data Memory Usage (MB):\", price.memory_usage(deep=True).sum() / 1024**2)\n"
   ]
  },
  {
   "cell_type": "markdown",
   "id": "f4ef3259",
   "metadata": {},
   "source": [
    "### Cleaning the data "
   ]
  },
  {
   "cell_type": "code",
   "execution_count": 11,
   "id": "d6fce2a8",
   "metadata": {},
   "outputs": [
    {
     "name": "stdout",
     "output_type": "stream",
     "text": [
      "Missing values in sales data:\n",
      "0\n"
     ]
    }
   ],
   "source": [
    "print(\"Missing values in sales data:\")\n",
    "print(sales.isnull().sum().sum()) "
   ]
  },
  {
   "cell_type": "code",
   "execution_count": 12,
   "id": "4dd6eca6",
   "metadata": {},
   "outputs": [
    {
     "name": "stdout",
     "output_type": "stream",
     "text": [
      "Missing values in price data:\n",
      "store_id      0\n",
      "item_id       0\n",
      "wm_yr_wk      0\n",
      "sell_price    0\n",
      "dtype: int64\n"
     ]
    }
   ],
   "source": [
    "\n",
    "print(\"Missing values in price data:\")\n",
    "print(price.isnull().sum())"
   ]
  },
  {
   "cell_type": "code",
   "execution_count": 13,
   "id": "33ca03ec",
   "metadata": {},
   "outputs": [
    {
     "name": "stdout",
     "output_type": "stream",
     "text": [
      "Missing values in calendar data:\n",
      "d                  0\n",
      "date               0\n",
      "wm_yr_wk           0\n",
      "weekday            0\n",
      "wday               0\n",
      "month              0\n",
      "year               0\n",
      "event_name_1    1807\n",
      "event_type_1    1807\n",
      "event_name_2    1964\n",
      "event_type_2    1964\n",
      "snap_CA            0\n",
      "snap_TX            0\n",
      "snap_WI            0\n",
      "dtype: int64\n"
     ]
    }
   ],
   "source": [
    "print(\"Missing values in calendar data:\")\n",
    "print(calendar.isnull().sum())"
   ]
  },
  {
   "cell_type": "markdown",
   "id": "92ec027a",
   "metadata": {},
   "source": [
    "Missing event names/types mean no event on those days, which is expected because most days are normal days without special events. So, these missing values are not errors but represent “no event”."
   ]
  },
  {
   "cell_type": "markdown",
   "id": "c2866b27",
   "metadata": {},
   "source": [
    "### Filling missing event values with 'No_event'"
   ]
  },
  {
   "cell_type": "code",
   "execution_count": 14,
   "id": "976793b2",
   "metadata": {},
   "outputs": [],
   "source": [
    "calendar['event_name_1'] = calendar['event_name_1'].cat.add_categories('No_event').fillna('No_event')\n",
    "calendar['event_type_1'] = calendar['event_type_1'].cat.add_categories('No_event').fillna('No_event')\n",
    "\n",
    "calendar['event_name_2'] = calendar['event_name_2'].cat.add_categories('No_event').fillna('No_event')\n",
    "calendar['event_type_2'] = calendar['event_type_2'].cat.add_categories('No_event').fillna('No_event')\n"
   ]
  },
  {
   "cell_type": "markdown",
   "id": "07558f53",
   "metadata": {},
   "source": []
  }
 ],
 "metadata": {
  "kernelspec": {
   "display_name": "venv",
   "language": "python",
   "name": "python3"
  },
  "language_info": {
   "codemirror_mode": {
    "name": "ipython",
    "version": 3
   },
   "file_extension": ".py",
   "mimetype": "text/x-python",
   "name": "python",
   "nbconvert_exporter": "python",
   "pygments_lexer": "ipython3",
   "version": "3.12.1"
  }
 },
 "nbformat": 4,
 "nbformat_minor": 5
}
