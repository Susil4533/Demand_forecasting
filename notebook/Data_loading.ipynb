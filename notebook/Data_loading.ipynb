{
 "cells": [
  {
   "cell_type": "markdown",
   "id": "13ea6c0f",
   "metadata": {},
   "source": [
    "### Data Loading "
   ]
  },
  {
   "cell_type": "code",
   "execution_count": null,
   "id": "3aa09c4e",
   "metadata": {},
   "outputs": [],
   "source": [
    "pip install pandas numpy"
   ]
  },
  {
   "cell_type": "code",
   "execution_count": 5,
   "id": "1240d709",
   "metadata": {},
   "outputs": [],
   "source": [
    "import numpy as np\n",
    "import pandas as pd"
   ]
  },
  {
   "cell_type": "code",
   "execution_count": 7,
   "id": "c2e9eaf8",
   "metadata": {},
   "outputs": [],
   "source": [
    "sales = pd.read_csv(r'C:\\Users\\wwwsu\\Desktop\\All folders\\Logistics_demand\\data\\raw\\sales_train_evaluation.csv')\n",
    "price = pd.read_csv(r'C:\\Users\\wwwsu\\Desktop\\All folders\\Logistics_demand\\data\\raw\\sell_prices.csv')\n",
    "calendar = pd.read_csv(r'C:\\Users\\wwwsu\\Desktop\\All folders\\Logistics_demand\\data\\raw\\calendar.csv')"
   ]
  },
  {
   "cell_type": "markdown",
   "id": "07558f53",
   "metadata": {},
   "source": []
  }
 ],
 "metadata": {
  "kernelspec": {
   "display_name": "venv",
   "language": "python",
   "name": "python3"
  },
  "language_info": {
   "codemirror_mode": {
    "name": "ipython",
    "version": 3
   },
   "file_extension": ".py",
   "mimetype": "text/x-python",
   "name": "python",
   "nbconvert_exporter": "python",
   "pygments_lexer": "ipython3",
   "version": "3.12.1"
  }
 },
 "nbformat": 4,
 "nbformat_minor": 5
}
