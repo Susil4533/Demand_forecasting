{
 "cells": [
  {
   "cell_type": "markdown",
   "id": "583a7d94",
   "metadata": {},
   "source": [
    "### Load and Prepare Data"
   ]
  },
  {
   "cell_type": "code",
   "execution_count": null,
   "id": "954faa69",
   "metadata": {},
   "outputs": [],
   "source": [
    "import pandas as pd\n",
    "import numpy as np\n",
    "\n",
    "# Load data\n",
    "calendar = pd.read_csv('C:\\Users\\wwwsu\\Desktop\\All folders\\Logistics_demand\\data\\raw\\calendar.csv')\n",
    "sell_prices = pd.read_csv('C:\\Users\\wwwsu\\Desktop\\All folders\\Logistics_demand\\data\\raw\\sell_prices.csv')\n",
    "sales_train = pd.read_csv('C:\\Users\\wwwsu\\Desktop\\All folders\\Logistics_demand\\data\\raw\\sales_train_evaluation.csv')\n",
    "\n",
    "# Filter for one store (e.g., CA_1) or department for memory efficiency\n",
    "sales_train = sales_train[sales_train['store_id'] == 'CA_1'].reset_index(drop=True)"
   ]
  },
  {
   "cell_type": "markdown",
   "id": "95677768",
   "metadata": {},
   "source": [
    "### Melt Sales Data to Long Format "
   ]
  },
  {
   "cell_type": "code",
   "execution_count": null,
   "id": "93aabc82",
   "metadata": {},
   "outputs": [],
   "source": [
    "id_cols = ['id', 'item_id', 'dept_id', 'cat_id', 'store_id', 'state_id']\n",
    "value_cols = [col for col in sales_train.columns if col.startswith('d_')]\n",
    "sales_long = pd.melt(\n",
    "    sales_train,\n",
    "    id_vars=id_cols,\n",
    "    value_vars=value_cols,\n",
    "    var_name='d',\n",
    "    value_name='sales'\n",
    ")"
   ]
  },
  {
   "cell_type": "markdown",
   "id": "a815bf2a",
   "metadata": {},
   "source": [
    "### Merge Calendar and Sell Prices"
   ]
  },
  {
   "cell_type": "code",
   "execution_count": null,
   "id": "0d2e18e6",
   "metadata": {},
   "outputs": [],
   "source": [
    "sales_long = sales_long.merge(calendar, on='d', how='left')\n",
    "sales_long = sales_long.merge(sell_prices, on=['store_id', 'item_id', 'wm_yr_wk'], how='left')\n"
   ]
  },
  {
   "cell_type": "markdown",
   "id": "f4b375bd",
   "metadata": {},
   "source": [
    "### Downcast and Convert to Category"
   ]
  },
  {
   "cell_type": "code",
   "execution_count": null,
   "id": "8a283953",
   "metadata": {},
   "outputs": [],
   "source": [
    "# Downcast numerics\n",
    "for col in sales_long.select_dtypes('number').columns:\n",
    "    sales_long[col] = pd.to_numeric(sales_long[col], downcast='float')\n",
    "\n",
    "# Convert strings to category\n",
    "for col in ['item_id', 'dept_id', 'cat_id', 'store_id', 'state_id', 'event_name_1', 'event_type_1', 'event_name_2', 'event_type_2', 'weekday']:\n",
    "    if col in sales_long.columns:\n",
    "        sales_long[col] = sales_long[col].astype('category')\n"
   ]
  },
  {
   "cell_type": "markdown",
   "id": "a0efa1af",
   "metadata": {},
   "source": [
    "### Feature Engineering "
   ]
  },
  {
   "cell_type": "code",
   "execution_count": null,
   "id": "2938a859",
   "metadata": {},
   "outputs": [],
   "source": [
    "# Lag features\n",
    "for lag in [1, 7, 14, 28]:\n",
    "    sales_long[f'lag_{lag}'] = sales_long.groupby('id')['sales'].shift(lag).astype(np.float16)\n",
    "\n",
    "# Rolling means\n",
    "for window in [7, 28]:\n",
    "    sales_long[f'rolling_mean_{window}'] = sales_long.groupby('id')['sales'].shift(1).rolling(window).mean().astype(np.float16)\n",
    "\n",
    "# Event flags\n",
    "for event in sales_long['event_name_1'].dropna().unique():\n",
    "    sales_long[f'event_{event}'] = (sales_long['event_name_1'] == event).astype(np.int8)\n",
    "for event in sales_long['event_name_2'].dropna().unique():\n",
    "    sales_long[f'event_{event}'] = (sales_long['event_name_2'] == event).astype(np.int8)\n",
    "\n",
    "# SNAP flag\n",
    "sales_long['is_snap'] = sales_long[['snap_CA','snap_TX','snap_WI']].max(axis=1).astype(np.int8)\n",
    "\n",
    "# Drop NA (from lag/rolling)\n",
    "sales_long = sales_long.dropna().reset_index(drop=True)\n"
   ]
  },
  {
   "cell_type": "markdown",
   "id": "afa186d3",
   "metadata": {},
   "source": [
    "### Aggregate for Weekly Forecasting"
   ]
  },
  {
   "cell_type": "code",
   "execution_count": null,
   "id": "a2ae8755",
   "metadata": {},
   "outputs": [],
   "source": [
    "weekly_agg = sales_long.groupby('wm_yr_wk').agg({\n",
    "    'sales': 'sum',\n",
    "    'sell_price': 'mean',\n",
    "    'month': 'first',\n",
    "    'year': 'first',\n",
    "    'is_snap': 'sum',\n",
    "    'lag_1': 'mean',\n",
    "    'lag_7': 'mean',\n",
    "    'lag_14': 'mean',\n",
    "    'lag_28': 'mean',\n",
    "    'rolling_mean_7': 'mean',\n",
    "    'rolling_mean_28': 'mean'\n",
    "    # You can add event columns here if needed\n",
    "}).reset_index()\n",
    "weekly_agg = weekly_agg.dropna().reset_index(drop=True)\n"
   ]
  },
  {
   "cell_type": "markdown",
   "id": "0caa953e",
   "metadata": {},
   "source": [
    "### Train/Test Split"
   ]
  },
  {
   "cell_type": "code",
   "execution_count": null,
   "id": "2578b7a3",
   "metadata": {},
   "outputs": [],
   "source": [
    "# Last 5 weeks for test\n",
    "train = weekly_agg.iloc[:-5]\n",
    "test = weekly_agg.iloc[-5:]\n",
    "\n",
    "features = [\n",
    "    'sell_price', 'month', 'year', 'is_snap',\n",
    "    'lag_1', 'lag_7', 'lag_14', 'lag_28',\n",
    "    'rolling_mean_7', 'rolling_mean_28'\n",
    "]\n",
    "target = 'sales'\n",
    "\n",
    "X_train = train[features]\n",
    "y_train = train[target]\n",
    "X_test = test[features]\n",
    "y_test = test[target]\n"
   ]
  },
  {
   "cell_type": "markdown",
   "id": "274b3827",
   "metadata": {},
   "source": [
    "###  Train LightGBM Model"
   ]
  },
  {
   "cell_type": "code",
   "execution_count": null,
   "id": "519c6def",
   "metadata": {},
   "outputs": [],
   "source": [
    "from lightgbm import LGBMRegressor\n",
    "model = LGBMRegressor(\n",
    "    n_estimators=200,\n",
    "    max_depth=6,\n",
    "    learning_rate=0.05,\n",
    "    subsample=0.8,\n",
    "    colsample_bytree=0.8,\n",
    "    random_state=42\n",
    ")\n",
    "model.fit(X_train, y_train)\n"
   ]
  },
  {
   "cell_type": "markdown",
   "id": "b47012cd",
   "metadata": {},
   "source": [
    "### Predict, Evaluate, and Plot"
   ]
  },
  {
   "cell_type": "code",
   "execution_count": null,
   "id": "0f6fac09",
   "metadata": {},
   "outputs": [],
   "source": [
    "from sklearn.metrics import mean_squared_error\n",
    "import matplotlib.pyplot as plt\n",
    "\n",
    "preds = model.predict(X_test)\n",
    "rmse = np.sqrt(mean_squared_error(y_test, preds))\n",
    "print(f'RMSE: {rmse:.2f}')\n",
    "\n",
    "plt.figure(figsize=(10, 6))\n",
    "plt.plot(test['wm_yr_wk'], y_test, marker='o', label='Actual Sales')\n",
    "plt.plot(test['wm_yr_wk'], preds, marker='x', label='Predicted Sales')\n",
    "plt.xlabel('wm_yr_wk')\n",
    "plt.ylabel('Sales')\n",
    "plt.title('Aggregated Weekly Sales Forecast (Next 5 Weeks)')\n",
    "plt.legend()\n",
    "plt.grid(True)\n",
    "plt.show()\n"
   ]
  },
  {
   "cell_type": "markdown",
   "id": "c084544c",
   "metadata": {},
   "source": []
  }
 ],
 "metadata": {
  "kernelspec": {
   "display_name": "venv",
   "language": "python",
   "name": "python3"
  },
  "language_info": {
   "name": "python",
   "version": "3.12.1"
  }
 },
 "nbformat": 4,
 "nbformat_minor": 5
}
